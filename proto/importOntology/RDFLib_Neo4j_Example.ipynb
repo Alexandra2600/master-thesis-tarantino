{
  "cells": [
    {
      "cell_type": "code",
      "execution_count": null,
      "metadata": {
        "id": "2VPAt057TzTi"
      },
      "outputs": [],
      "source": [
        "pip install rdflib-neo4j"
      ]
    },
    {
      "cell_type": "code",
      "execution_count": 30,
      "metadata": {
        "id": "1U180HeFUMVn"
      },
      "outputs": [
        {
          "name": "stdout",
          "output_type": "stream",
          "text": [
            "Uniqueness constraint on :Resource(uri) is created.\n",
            "The store is now: Open\n",
            "The store is now: Closed\n",
            "IMPORTED 34879 TRIPLES\n"
          ]
        }
      ],
      "source": [
        "from rdflib import Graph\n",
        "from rdflib_neo4j import Neo4jStoreConfig, Neo4jStore, HANDLE_VOCAB_URI_STRATEGY\n",
        "\n",
        "# set the configuration to connect to your Aura DB\n",
        "AURA_DB_URI=\"neo4j+s://375dd280.databases.neo4j.io\"\n",
        "AURA_DB_USERNAME=\"neo4j\"\n",
        "AURA_DB_PWD=\"Ki1KeYcATDLFcP1O5TJdIfUTUXAmES4z1JNOMXoY6cQ\"\n",
        "\n",
        "auth_data = {'uri': AURA_DB_URI,\n",
        "             'database': \"neo4j\",\n",
        "             'user': AURA_DB_USERNAME,\n",
        "             'pwd': AURA_DB_PWD}\n",
        "\n",
        "# Define your custom mappings & store config\n",
        "config = Neo4jStoreConfig(auth_data=auth_data,\n",
        "                          handle_vocab_uri_strategy=HANDLE_VOCAB_URI_STRATEGY.IGNORE,\n",
        "                          batching=True)\n",
        "\n",
        "file_path = './schemaorg.ttl'\n",
        "\n",
        "# Create the RDF Graph, parse & ingest the data to Neo4j, and close the store(If the field batching is set to True in the Neo4jStoreConfig, remember to close the store to prevent the loss of any uncommitted records.)\n",
        "g = Graph(store=Neo4jStore(config=config))\n",
        "# Calling the parse method will implictly open the store\n",
        "g.parse(file_path, format=\"ttl\")\n",
        "g.close(True)"
      ]
    },
    {
      "cell_type": "code",
      "execution_count": 24,
      "metadata": {},
      "outputs": [
        {
          "data": {
            "text/plain": [
              "<Graph identifier=N132a0fc60c0d4fbabeb5e4849a24a3cd (<class 'rdflib.graph.Graph'>)>"
            ]
          },
          "execution_count": 24,
          "metadata": {},
          "output_type": "execute_result"
        }
      ],
      "source": [
        "import rdflib\n",
        "from rdflib_neo4j import Neo4jStoreConfig, Neo4jStore, HANDLE_VOCAB_URI_STRATEGY\n",
        "from rdflib import Graph, RDF, SKOS\n",
        "\n",
        "aura = rdflib.URIRef(\"http://neo4j.com/voc/tech#AuraDB\")\n",
        "\n",
        "g.add((aura, RDF.type, SKOS.Concept))\n",
        "g.add((aura, SKOS.prefLabel, rdflib.Literal(\"AuraDB\")))\n",
        "g.add((aura, SKOS.broader, rdflib.URIRef(\"http://www.wikidata.org/entity/Q1628290\")))\n"
      ]
    },
    {
      "cell_type": "code",
      "execution_count": 28,
      "metadata": {
        "id": "CvBt7CfJOCjP"
      },
      "outputs": [
        {
          "name": "stdout",
          "output_type": "stream",
          "text": [
            "Uniqueness constraint on :Resource(uri) found. \n",
            "                \n",
            "                \n",
            "The store is now: Open\n"
          ]
        },
        {
          "data": {
            "text/plain": [
              "<Graph identifier=Nacfad2d5c613483392a54f84e63a8ce2 (<class 'rdflib.graph.Graph'>)>"
            ]
          },
          "execution_count": 28,
          "metadata": {},
          "output_type": "execute_result"
        }
      ],
      "source": [
        "from rdflib import RDF, SKOS, URIRef, Literal\n",
        "from rdflib import Namespace\n",
        "\n",
        "indiv = Namespace(\"http://neo4j.com/indiv#\")\n",
        "voc = Namespace(\"http://neo4j.com/voc#\")\n",
        "\n",
        "alex = indiv.AlexErdl\n",
        "jb = indiv.JesusBarrasa\n",
        "\n",
        "g = Graph(store=Neo4jStore(config=config))\n",
        "\n",
        "g.add((alex, RDF.type, voc.Person))\n",
        "g.add((alex, RDF.type, voc.Neo4jEmployee))\n",
        "g.add((alex, voc.name, Literal(\"Alex Erdl\")))\n",
        "g.add((alex, voc.twitterHandle, Literal(\"https://twitter.com/alexandererdl\")))\n",
        "\n",
        "\n",
        "g.add((jb, RDF.type, voc.Person))\n",
        "g.add((jb, RDF.type, voc.Neo4jEmployee))\n",
        "g.add((jb, voc.name, Literal(\"Jesus Barrasa\")))\n",
        "g.add((jb, voc.twitterHandle, Literal(\"https://twitter.com/barrasadv\")))\n",
        "\n",
        "g.add((jb, voc.friend_of, alex))"
      ]
    },
    {
      "cell_type": "code",
      "execution_count": null,
      "metadata": {
        "id": "Tu96YQVmryhJ"
      },
      "outputs": [],
      "source": []
    },
    {
      "cell_type": "markdown",
      "metadata": {},
      "source": [
        "# Inferenza su ontologia"
      ]
    }
  ],
  "metadata": {
    "colab": {
      "authorship_tag": "ABX9TyNZjGuKCLPEOt3eJPd9LpSo",
      "provenance": []
    },
    "kernelspec": {
      "display_name": ".venv",
      "language": "python",
      "name": "python3"
    },
    "language_info": {
      "codemirror_mode": {
        "name": "ipython",
        "version": 3
      },
      "file_extension": ".py",
      "mimetype": "text/x-python",
      "name": "python",
      "nbconvert_exporter": "python",
      "pygments_lexer": "ipython3",
      "version": "3.9.19"
    }
  },
  "nbformat": 4,
  "nbformat_minor": 0
}
