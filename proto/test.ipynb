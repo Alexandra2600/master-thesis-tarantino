{
 "cells": [
  {
   "cell_type": "markdown",
   "metadata": {},
   "source": [
    "# Graph generation"
   ]
  },
  {
   "cell_type": "markdown",
   "metadata": {},
   "source": [
    "## Import"
   ]
  },
  {
   "cell_type": "code",
   "execution_count": 1,
   "metadata": {},
   "outputs": [
    {
     "name": "stderr",
     "output_type": "stream",
     "text": [
      "/Users/alexandra.tarantino/Desktop/master-thesis-tarantino/.venv/lib/python3.10/site-packages/tqdm/auto.py:21: TqdmWarning: IProgress not found. Please update jupyter and ipywidgets. See https://ipywidgets.readthedocs.io/en/stable/user_install.html\n",
      "  from .autonotebook import tqdm as notebook_tqdm\n"
     ]
    }
   ],
   "source": [
    "import add_data\n",
    "import utility_function\n",
    "import nest_asyncio\n",
    "import time \n",
    "import RAGAStest\n",
    "import pandas as pd\n",
    "import json\n"
   ]
  },
  {
   "cell_type": "code",
   "execution_count": null,
   "metadata": {},
   "outputs": [],
   "source": [
    "!ls ../tests/data/profiles"
   ]
  },
  {
   "cell_type": "code",
   "execution_count": 2,
   "metadata": {},
   "outputs": [],
   "source": [
    "user = \"Javier\"\n",
    "path_data_profiles = \"../tests/data/profiles/\"\n",
    "path_data_context = \"../tests/data/context/\"\n",
    "path_data_qa = \"../tests/data/qa/\"\n",
    "path_data_results = \"../tests/data/results/\""
   ]
  },
  {
   "cell_type": "markdown",
   "metadata": {},
   "source": [
    "## Data"
   ]
  },
  {
   "cell_type": "code",
   "execution_count": 3,
   "metadata": {},
   "outputs": [
    {
     "name": "stdout",
     "output_type": "stream",
     "text": [
      "         date    user                                        interaction\n",
      "0  2023-10-01  Javier  I want to start a new project called 'Communit...\n",
      "1  2023-10-02  Javier  Today, I will sketch some initial ideas for th...\n",
      "2  2023-10-03  Javier  Tomorrow, I plan to visit the Phoenix Art Muse...\n",
      "3  2023-10-04  Javier  I have an appointment on 2023-10-06 at 10:00 A...\n",
      "4  2023-10-05  Javier  Every Monday, I will spend two hours painting ...\n",
      "Date: 2023-10-01\n",
      "User: Javier\n",
      "Input: I want to start a new project called 'Community Mural: Phoenix History'. The due date is 2023-12-15, and it's high priority. I want to depict the cultural history of Phoenix with other artists.\n",
      "--------------------------------------------------\n",
      "Date: 2023-10-02\n",
      "User: Javier\n",
      "Input: Today, I will sketch some initial ideas for the 'Community Mural: Phoenix History' project.\n",
      "--------------------------------------------------\n",
      "Date: 2023-10-03\n",
      "User: Javier\n",
      "Input: Tomorrow, I plan to visit the Phoenix Art Museum to gather inspiration for the mural.\n",
      "--------------------------------------------------\n",
      "Date: 2023-10-04\n",
      "User: Javier\n",
      "Input: I have an appointment on 2023-10-06 at 10:00 AM at the local community center with Maria Gonzalez to discuss the mural project.\n",
      "--------------------------------------------------\n",
      "Date: 2023-10-05\n",
      "User: Javier\n",
      "Input: Every Monday, I will spend two hours painting with my daughters San and Milly to keep my skills sharp.\n",
      "--------------------------------------------------\n",
      "Date: 2023-10-06\n",
      "User: Javier\n",
      "Input: Met with Maria Gonzalez at the community center today. We discussed the theme and logistics for the mural project.\n",
      "--------------------------------------------------\n",
      "Date: 2023-10-07\n",
      "User: Javier\n",
      "Input: I need to buy art supplies for the mural project tomorrow.\n",
      "--------------------------------------------------\n",
      "Date: 2023-10-08\n",
      "User: Javier\n",
      "Input: Today, I will research historical events in Phoenix to include in the mural.\n",
      "--------------------------------------------------\n",
      "Date: 2023-10-09\n",
      "User: Javier\n",
      "Input: I have a meeting with my daughters San and Milly on 2023-10-10 at 3:00 PM at our home to plan our contributions to the mural.\n",
      "--------------------------------------------------\n",
      "Date: 2023-10-10\n",
      "User: Javier\n",
      "Input: Met with my daughters San and Milly today. We decided to focus on the Mexican diaspora's influence on Phoenix for our part of the mural.\n",
      "--------------------------------------------------\n",
      "Date: 2023-10-11\n",
      "User: Javier\n",
      "Input: Tomorrow, I will visit the library to find books on Phoenix history.\n",
      "--------------------------------------------------\n",
      "Date: 2023-10-12\n",
      "User: Javier\n",
      "Input: I will start painting the background of the mural today.\n",
      "--------------------------------------------------\n",
      "Date: 2023-10-13\n",
      "User: Javier\n",
      "Input: I have a call scheduled with the local artist community on 2023-10-14 at 11:00 AM to discuss collaboration.\n",
      "--------------------------------------------------\n",
      "Date: 2023-10-14\n",
      "User: Javier\n",
      "Input: Spoke with the local artist community today. They are excited to join the mural project.\n",
      "--------------------------------------------------\n",
      "Date: 2023-10-15\n",
      "User: Javier\n",
      "Input: Today, I will work on the color palette for the mural.\n",
      "--------------------------------------------------\n",
      "Date: 2023-10-16\n",
      "User: Javier\n",
      "Input: Every Monday, I will continue painting with my daughters San and Milly.\n",
      "--------------------------------------------------\n",
      "Date: 2023-10-17\n",
      "User: Javier\n",
      "Input: I need to finalize the sketch for the mural by tomorrow.\n",
      "--------------------------------------------------\n",
      "Date: 2023-10-18\n",
      "User: Javier\n",
      "Input: I have a meeting with Maria Gonzalez on 2023-10-20 at 2:00 PM at the community center to review the sketch.\n",
      "--------------------------------------------------\n",
      "Date: 2023-10-19\n",
      "User: Javier\n",
      "Input: Today, I will prepare materials for the mural project.\n",
      "--------------------------------------------------\n",
      "Date: 2023-10-20\n",
      "User: Javier\n",
      "Input: Reviewed the mural sketch with Maria Gonzalez today. She suggested adding more details about the agricultural history of Phoenix.\n",
      "--------------------------------------------------\n",
      "Date: 2023-10-21\n",
      "User: Javier\n",
      "Input: Tomorrow, I will start painting the agricultural section of the mural.\n",
      "--------------------------------------------------\n",
      "Date: 2023-10-22\n",
      "User: Javier\n",
      "Input: Today, I will work on the mural's agricultural theme with my daughters San and Milly.\n",
      "--------------------------------------------------\n",
      "Date: 2023-10-23\n",
      "User: Javier\n",
      "Input: I have a call with the local artist community on 2023-10-24 at 10:00 AM to discuss progress.\n",
      "--------------------------------------------------\n",
      "Date: 2023-10-24\n",
      "User: Javier\n",
      "Input: I discussed the mural's progress with the local artist community today. They are impressed with the work so far.\n",
      "--------------------------------------------------\n",
      "Date: 2023-10-25\n",
      "User: Javier\n",
      "Input: Today, I will add details to the mural's cultural section.\n",
      "--------------------------------------------------\n",
      "Date: 2023-10-26\n",
      "User: Javier\n",
      "Input: I need to buy more paint for the mural tomorrow.\n",
      "--------------------------------------------------\n",
      "Date: 2023-10-27\n",
      "User: Javier\n",
      "Input: Every Monday, I will continue painting with my daughters San and Milly.\n",
      "--------------------------------------------------\n",
      "Date: 2023-10-28\n",
      "User: Javier\n",
      "Input: Today, I will work on the mural's historical figures section.\n",
      "--------------------------------------------------\n",
      "Date: 2023-10-29\n",
      "User: Javier\n",
      "Input: I have a meeting with Maria Gonzalez on 2023-10-30 at 1:00 PM at the community center to finalize the mural details.\n",
      "--------------------------------------------------\n",
      "Date: 2023-10-30\n",
      "User: Javier\n",
      "Input: I finalized the mural details with Maria Gonzalez today. The project is on track for completion by the due date.\n",
      "--------------------------------------------------\n"
     ]
    }
   ],
   "source": [
    "# Percorso del file CSV\n",
    "csv_filename = user + \".csv\"\n",
    "\n",
    "# Leggere il file CSV\n",
    "df = pd.read_csv(path_data_profiles + csv_filename)\n",
    "\n",
    "# Stampa delle prime righe per verificare il contenuto\n",
    "print(df.head())\n",
    "\n",
    "# Estrazione delle informazioni principali\n",
    "def extract_data(df):\n",
    "    for index, row in df.iterrows():\n",
    "        print(f\"Date: {row['date']}\")\n",
    "        print(f\"User: {row['user']}\")\n",
    "        print(f\"Input: {row['interaction']}\")\n",
    "        print(\"-\" * 50)\n",
    "\n",
    "# Eseguire l'estrazione\n",
    "extract_data(df)\n"
   ]
  },
  {
   "cell_type": "markdown",
   "metadata": {},
   "source": [
    "## Add data"
   ]
  },
  {
   "cell_type": "markdown",
   "metadata": {},
   "source": [
    "### Process the text"
   ]
  },
  {
   "cell_type": "code",
   "execution_count": 5,
   "metadata": {},
   "outputs": [],
   "source": [
    "#costo 0,01 (30 interazioni)\n",
    "interactions = []\n",
    "\n",
    "for index, row in df.iterrows():\n",
    "    input = utility_function.process_text(text=row['interaction'], user_name=row['user'], current_date=row['date'])\n",
    "    interactions.append(input)\n",
    "\n",
    "context_df = pd.DataFrame(interactions)\n",
    "context_df.to_csv(path_data_context + user + \"_context.csv\", index=False)"
   ]
  },
  {
   "cell_type": "markdown",
   "metadata": {},
   "source": [
    "### Add to graph"
   ]
  },
  {
   "cell_type": "code",
   "execution_count": 6,
   "metadata": {},
   "outputs": [
    {
     "name": "stdout",
     "output_type": "stream",
     "text": [
      "{'writer': {'status': 'SUCCESS', 'metadata': {'node_count': 3, 'relationship_count': 3}}}\n",
      "{'writer': {'status': 'SUCCESS', 'metadata': {'node_count': 4, 'relationship_count': 6}}}\n",
      "{'writer': {'status': 'SUCCESS', 'metadata': {'node_count': 4, 'relationship_count': 5}}}\n",
      "{'writer': {'status': 'SUCCESS', 'metadata': {'node_count': 6, 'relationship_count': 10}}}\n",
      "{'writer': {'status': 'SUCCESS', 'metadata': {'node_count': 3, 'relationship_count': 3}}}\n",
      "{'writer': {'status': 'SUCCESS', 'metadata': {'node_count': 5, 'relationship_count': 7}}}\n",
      "{'writer': {'status': 'SUCCESS', 'metadata': {'node_count': 3, 'relationship_count': 3}}}\n",
      "{'writer': {'status': 'SUCCESS', 'metadata': {'node_count': 3, 'relationship_count': 3}}}\n",
      "{'writer': {'status': 'SUCCESS', 'metadata': {'node_count': 6, 'relationship_count': 9}}}\n",
      "{'writer': {'status': 'SUCCESS', 'metadata': {'node_count': 5, 'relationship_count': 8}}}\n",
      "{'writer': {'status': 'SUCCESS', 'metadata': {'node_count': 4, 'relationship_count': 5}}}\n",
      "{'writer': {'status': 'SUCCESS', 'metadata': {'node_count': 3, 'relationship_count': 3}}}\n",
      "{'writer': {'status': 'SUCCESS', 'metadata': {'node_count': 3, 'relationship_count': 3}}}\n",
      "{'writer': {'status': 'SUCCESS', 'metadata': {'node_count': 2, 'relationship_count': 1}}}\n",
      "{'writer': {'status': 'SUCCESS', 'metadata': {'node_count': 3, 'relationship_count': 3}}}\n",
      "{'writer': {'status': 'SUCCESS', 'metadata': {'node_count': 3, 'relationship_count': 3}}}\n"
     ]
    },
    {
     "name": "stderr",
     "output_type": "stream",
     "text": [
      "LLM response has improper format for chunk_index=0\n"
     ]
    },
    {
     "name": "stdout",
     "output_type": "stream",
     "text": [
      "{'writer': {'status': 'SUCCESS', 'metadata': {'node_count': 1, 'relationship_count': 0}}}\n",
      "{'writer': {'status': 'SUCCESS', 'metadata': {'node_count': 5, 'relationship_count': 7}}}\n",
      "{'writer': {'status': 'SUCCESS', 'metadata': {'node_count': 3, 'relationship_count': 3}}}\n",
      "{'writer': {'status': 'SUCCESS', 'metadata': {'node_count': 3, 'relationship_count': 3}}}\n",
      "{'writer': {'status': 'SUCCESS', 'metadata': {'node_count': 3, 'relationship_count': 3}}}\n",
      "{'writer': {'status': 'SUCCESS', 'metadata': {'node_count': 5, 'relationship_count': 7}}}\n",
      "{'writer': {'status': 'SUCCESS', 'metadata': {'node_count': 3, 'relationship_count': 3}}}\n",
      "{'writer': {'status': 'SUCCESS', 'metadata': {'node_count': 2, 'relationship_count': 1}}}\n",
      "{'writer': {'status': 'SUCCESS', 'metadata': {'node_count': 3, 'relationship_count': 3}}}\n",
      "{'writer': {'status': 'SUCCESS', 'metadata': {'node_count': 2, 'relationship_count': 1}}}\n",
      "{'writer': {'status': 'SUCCESS', 'metadata': {'node_count': 5, 'relationship_count': 7}}}\n",
      "{'writer': {'status': 'SUCCESS', 'metadata': {'node_count': 3, 'relationship_count': 3}}}\n",
      "{'writer': {'status': 'SUCCESS', 'metadata': {'node_count': 5, 'relationship_count': 7}}}\n",
      "{'writer': {'status': 'SUCCESS', 'metadata': {'node_count': 4, 'relationship_count': 4}}}\n",
      "number_of_nodes_to_resolve=77 number_of_created_nodes=38\n"
     ]
    }
   ],
   "source": [
    "#costo: 0,02 (aggiunta di 30 input + resolver)\n",
    "nest_asyncio.apply()\n",
    "\n",
    "#Adding data to the graph\n",
    "for input in interactions:\n",
    "    response = await add_data.add_data_to_graph(input)\n",
    "    print(response)\n",
    "    \n",
    "#Resolving entities\n",
    "nest_asyncio.apply()\n",
    "res = await add_data.resolve_entities()\n",
    "print(res)\n",
    "    "
   ]
  },
  {
   "cell_type": "code",
   "execution_count": 8,
   "metadata": {},
   "outputs": [
    {
     "name": "stdout",
     "output_type": "stream",
     "text": [
      "\"I need to finalize the sketch for the mural by 2023-10-18 (Javier).\"\n"
     ]
    }
   ],
   "source": [
    "print(interactions[16])"
   ]
  },
  {
   "cell_type": "code",
   "execution_count": 9,
   "metadata": {},
   "outputs": [
    {
     "name": "stdout",
     "output_type": "stream",
     "text": [
      "{'writer': {'status': 'SUCCESS', 'metadata': {'node_count': 3, 'relationship_count': 3}}}\n",
      "number_of_nodes_to_resolve=40 number_of_created_nodes=39\n"
     ]
    }
   ],
   "source": [
    "\n",
    "response = await add_data.add_data_to_graph(interactions[16])\n",
    "print(response)\n",
    "\n",
    "res = await add_data.resolve_entities()\n",
    "print(res)"
   ]
  },
  {
   "cell_type": "markdown",
   "metadata": {},
   "source": [
    "# Test"
   ]
  },
  {
   "cell_type": "markdown",
   "metadata": {},
   "source": [
    "### Esecuzione test"
   ]
  },
  {
   "cell_type": "code",
   "execution_count": 10,
   "metadata": {},
   "outputs": [
    {
     "name": "stderr",
     "output_type": "stream",
     "text": [
      "Evaluating: 100%|██████████| 50/50 [01:15<00:00,  1.51s/it]\n"
     ]
    },
    {
     "name": "stdout",
     "output_type": "stream",
     "text": [
      "Evaluation results uploaded! View at https://app.ragas.io/dashboard/alignment/evaluation/46918f73-8158-4b0b-942b-e59bbbe19520\n",
      "GraphRAG:  {'non_llm_context_precision_with_reference': 0.5833, 'non_llm_context_recall': 0.6500, 'answer_relevancy': 0.9620, 'faithfulness': 0.8408, 'semantic_similarity': 0.7387}\n"
     ]
    },
    {
     "name": "stderr",
     "output_type": "stream",
     "text": [
      "Evaluating: 100%|██████████| 50/50 [00:21<00:00,  2.30it/s] \n"
     ]
    },
    {
     "name": "stdout",
     "output_type": "stream",
     "text": [
      "Evaluation results uploaded! View at https://app.ragas.io/dashboard/alignment/evaluation/4bb05777-1563-4385-af9b-cef0a565703a\n",
      "RAG:  {'non_llm_context_precision_with_reference': 0.6833, 'non_llm_context_recall': 0.7333, 'answer_relevancy': 0.9391, 'faithfulness': 0.8667, 'semantic_similarity': 0.6757}\n"
     ]
    }
   ],
   "source": [
    "#costo 0.02*2 (10 domande)\n",
    "results_graphRAG = []\n",
    "results_RAG = []\n",
    "\n",
    "with open(path_data_qa + user + \"_qa.json\", \"r\", encoding=\"utf-8\") as f:\n",
    "    dataset = json.load(f)\n",
    "    \n",
    "    graphRAG = RAGAStest.run_tests(dataset)\n",
    "    print(\"GraphRAG: \", graphRAG)\n",
    "    results_graphRAG.append({\"date\": time.strftime(\"%Y-%m-%d %H:%M:%S\"), 'user': user, 'results': graphRAG})\n",
    "    \n",
    "    RAG = RAGAStest.run_tests_RAG(dataset)\n",
    "    print(\"RAG: \", RAG)\n",
    "    results_RAG.append({\"date\": time.strftime(\"%Y-%m-%d %H:%M:%S\"), 'user': user, 'results': RAG})\n"
   ]
  },
  {
   "cell_type": "code",
   "execution_count": 29,
   "metadata": {},
   "outputs": [
    {
     "name": "stdout",
     "output_type": "stream",
     "text": [
      "[{'date': '2025-03-25 11:58:24', 'user': 'Javier', 'results': {'non_llm_context_precision_with_reference': 0.5833, 'non_llm_context_recall': 0.6500, 'answer_relevancy': 0.9620, 'faithfulness': 0.8408, 'semantic_similarity': 0.7387}}]\n"
     ]
    }
   ],
   "source": [
    "print(results_graphRAG)"
   ]
  },
  {
   "cell_type": "code",
   "execution_count": 45,
   "metadata": {},
   "outputs": [
    {
     "name": "stdout",
     "output_type": "stream",
     "text": [
      "[{'non_llm_context_precision_with_reference': 0.9999999999, 'non_llm_context_recall': 1.0, 'answer_relevancy': 0.9931319791428072, 'faithfulness': 1.0, 'semantic_similarity': 0.603804910594145}, {'non_llm_context_precision_with_reference': 0.9999999999666667, 'non_llm_context_recall': 1.0, 'answer_relevancy': 0.975814404890765, 'faithfulness': 1.0, 'semantic_similarity': 0.72182546661519}, {'non_llm_context_precision_with_reference': 0.3333333333, 'non_llm_context_recall': 0.5, 'answer_relevancy': 0.9600209470432532, 'faithfulness': 1.0, 'semantic_similarity': 0.8911408361938402}, {'non_llm_context_precision_with_reference': 0.3333333333, 'non_llm_context_recall': 1.0, 'answer_relevancy': 0.9083764280367436, 'faithfulness': 0.6666666666666666, 'semantic_similarity': 0.8648862399861073}, {'non_llm_context_precision_with_reference': 0.5833333333041666, 'non_llm_context_recall': 1.0, 'answer_relevancy': 0.9336041577382086, 'faithfulness': 0.875, 'semantic_similarity': 0.6803444582009928}, {'non_llm_context_precision_with_reference': 0.99999999995, 'non_llm_context_recall': 0.6666666666666666, 'answer_relevancy': 0.9758115628095986, 'faithfulness': 1.0, 'semantic_similarity': 0.8218129961715765}, {'non_llm_context_precision_with_reference': 0.9999999999666667, 'non_llm_context_recall': 1.0, 'answer_relevancy': 0.9707542105207715, 'faithfulness': 1.0, 'semantic_similarity': 0.6686857896341645}, {'non_llm_context_precision_with_reference': 0.5833333333041666, 'non_llm_context_recall': 0.3333333333333333, 'answer_relevancy': 0.993552279020009, 'faithfulness': 1.0, 'semantic_similarity': 0.7431717012132683}, {'non_llm_context_precision_with_reference': 0.0, 'non_llm_context_recall': 0.0, 'answer_relevancy': 0.9571665049786425, 'faithfulness': 0.6666666666666666, 'semantic_similarity': 0.5489009999816764}, {'non_llm_context_precision_with_reference': 0.0, 'non_llm_context_recall': 0.0, 'answer_relevancy': 0.9517490445280128, 'faithfulness': 0.2, 'semantic_similarity': 0.8427598073219271}]\n",
      "[{'non_llm_context_precision_with_reference': 0.9999999999, 'non_llm_context_recall': 1.0, 'answer_relevancy': 0.9931319791428072, 'faithfulness': 1.0, 'semantic_similarity': 0.603804910594145}, {'non_llm_context_precision_with_reference': 0.9999999999666667, 'non_llm_context_recall': 1.0, 'answer_relevancy': 0.9758333217758198, 'faithfulness': 1.0, 'semantic_similarity': 0.7110951296880084}, {'non_llm_context_precision_with_reference': 0.3333333333, 'non_llm_context_recall': 0.5, 'answer_relevancy': 0.953591466732108, 'faithfulness': 1.0, 'semantic_similarity': 0.741593495217654}, {'non_llm_context_precision_with_reference': 0.3333333333, 'non_llm_context_recall': 1.0, 'answer_relevancy': 0.7570148311389239, 'faithfulness': 1.0, 'semantic_similarity': 0.799798876627925}, {'non_llm_context_precision_with_reference': 0.5833333333041666, 'non_llm_context_recall': 1.0, 'answer_relevancy': 0.9042026291161841, 'faithfulness': 1.0, 'semantic_similarity': 0.755023839025449}, {'non_llm_context_precision_with_reference': 0.99999999995, 'non_llm_context_recall': 1.0, 'answer_relevancy': 0.9840144340142359, 'faithfulness': 1.0, 'semantic_similarity': 0.8391717073287153}, {'non_llm_context_precision_with_reference': 0.9999999999666667, 'non_llm_context_recall': 1.0, 'answer_relevancy': 0.9239645902370848, 'faithfulness': 1.0, 'semantic_similarity': 0.6686857896341645}, {'non_llm_context_precision_with_reference': 0.5833333333041666, 'non_llm_context_recall': 0.3333333333333333, 'answer_relevancy': 0.9902110916196362, 'faithfulness': 1.0, 'semantic_similarity': 0.7224857941761932}, {'non_llm_context_precision_with_reference': 0.0, 'non_llm_context_recall': 0.0, 'answer_relevancy': 0.9621408214589557, 'faithfulness': 0.0, 'semantic_similarity': 0.4004793654807965}, {'non_llm_context_precision_with_reference': 0.9999999999, 'non_llm_context_recall': 0.5, 'answer_relevancy': 0.9471083887479944, 'faithfulness': 0.6666666666666666, 'semantic_similarity': 0.5150732687252315}]\n"
     ]
    }
   ],
   "source": [
    "res_graphRAG = results_graphRAG[0]['results'].scores\n",
    "res_RAG = results_RAG[0]['results'].scores\n",
    "\n",
    "print(res_graphRAG)\n",
    "print(res_RAG)\n"
   ]
  },
  {
   "cell_type": "code",
   "execution_count": null,
   "metadata": {},
   "outputs": [
    {
     "name": "stdout",
     "output_type": "stream",
     "text": [
      "Confronto delle medie tra GraphRAG e RAG:\n",
      "                                          GraphRAG       RAG\n",
      "non_llm_context_precision_with_reference  0.583333  0.683333\n",
      "non_llm_context_recall                    0.650000  0.733333\n",
      "answer_relevancy                          0.961998  0.939121\n",
      "faithfulness                              0.840833  0.866667\n",
      "semantic_similarity                       0.738733  0.675721\n"
     ]
    },
    {
     "data": {
      "image/png": "[encoded data removed]",
      "text/plain": [
       "<Figure size 1000x600 with 1 Axes>"
      ]
     },
     "metadata": {},
     "output_type": "display_data"
    }
   ],
   "source": [
    "import pandas as pd\n",
    "import matplotlib.pyplot as plt\n",
    "\n",
    "# Conversione a DataFrame\n",
    "df_graphRAG = pd.DataFrame(res_graphRAG)\n",
    "df_RAG = pd.DataFrame(res_RAG)\n",
    "\n",
    "# Calcolo medie\n",
    "mean_graphRAG = df_graphRAG.mean()\n",
    "mean_RAG = df_RAG.mean()\n",
    "\n",
    "# Unione per confronto\n",
    "comparison_df = pd.DataFrame({\n",
    "    'GraphRAG': mean_graphRAG,\n",
    "    'RAG': mean_RAG\n",
    "})\n",
    "\n",
    "# Stampa dei valori medi\n",
    "print(\"Confronto delle medie tra GraphRAG e RAG:\")\n",
    "print(comparison_df)\n",
    "\n",
    "# Plot confronto\n",
    "comparison_df.plot(kind='bar', figsize=(10, 6), rot=45)\n",
    "plt.title('Confronto Medie Metriche tra GraphRAG e RAG')\n",
    "plt.ylabel('Valore medio')\n",
    "plt.ylim(0, 1)\n",
    "plt.grid(True, axis='y')\n",
    "plt.tight_layout()\n",
    "plt.show()"
   ]
  },
  {
   "cell_type": "markdown",
   "metadata": {},
   "source": [
    "## Stampa risultati su file"
   ]
  },
  {
   "cell_type": "code",
   "execution_count": 11,
   "metadata": {},
   "outputs": [],
   "source": [
    "\n",
    "df_graphRAG = pd.DataFrame(results_graphRAG)\n",
    "df_graphRAG.to_csv(path_data_results + \"results_graphRAG.csv\", mode='a', header=False, index=False)"
   ]
  },
  {
   "cell_type": "code",
   "execution_count": 12,
   "metadata": {},
   "outputs": [],
   "source": [
    "df_RAG = pd.DataFrame(results_RAG)\n",
    "df_RAG.to_csv(path_data_results + \"results_RAG.csv\", mode='a', header=False, index=False)"
   ]
  }
 ],
 "metadata": {
  "kernelspec": {
   "display_name": ".venv",
   "language": "python",
   "name": "python3"
  },
  "language_info": {
   "codemirror_mode": {
    "name": "ipython",
    "version": 3
   },
   "file_extension": ".py",
   "mimetype": "text/x-python",
   "name": "python",
   "nbconvert_exporter": "python",
   "pygments_lexer": "ipython3",
   "version": "3.10.11"
  }
 },
 "nbformat": 4,
 "nbformat_minor": 2
}
